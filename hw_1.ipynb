{
  "nbformat": 4,
  "nbformat_minor": 0,
  "metadata": {
    "colab": {
      "name": "hw_1",
      "provenance": [],
      "authorship_tag": "ABX9TyOl+VBlIrjojsIFb7F4Jx7C",
      "include_colab_link": true
    },
    "kernelspec": {
      "name": "python3",
      "display_name": "Python 3"
    }
  },
  "cells": [
    {
      "cell_type": "markdown",
      "metadata": {
        "id": "view-in-github",
        "colab_type": "text"
      },
      "source": [
        "<a href=\"https://colab.research.google.com/github/george-zip/ast/blob/master/hw_1.ipynb\" target=\"_parent\"><img src=\"https://colab.research.google.com/assets/colab-badge.svg\" alt=\"Open In Colab\"/></a>"
      ]
    },
    {
      "cell_type": "markdown",
      "metadata": {
        "id": "gH76YFu8B-p5"
      },
      "source": [
        "#Demonstrates `multiply_matrices` method"
      ]
    },
    {
      "cell_type": "code",
      "metadata": {
        "id": "s3wv7q3I2fVZ"
      },
      "source": [
        "import numpy as np \r\n",
        "class MatrixMultiplicationException(Exception):\r\n",
        "    \"\"\"Exception class representing an error in matrix multplication\"\"\"\r\n",
        "    def __init__(self, first_array, second_array):\r\n",
        "        self.first_array = first_array\r\n",
        "        self.second_array = second_array\r\n",
        "\r\n",
        "    def __str__(self):\r\n",
        "        return f\"\"\"These arrays cannot be multiplied: {self.first_array} \r\n",
        "                and {self.second_array}\"\"\""
      ],
      "execution_count": 1,
      "outputs": []
    },
    {
      "cell_type": "markdown",
      "metadata": {
        "id": "KgYPH7ThCPCz"
      },
      "source": [
        "###Custom exception for matrix multiplication###"
      ]
    },
    {
      "cell_type": "code",
      "metadata": {
        "id": "a03Pj_7ABN8o"
      },
      "source": [
        "def multiply_matrices(matrices):\n",
        "    \"\"\"\n",
        "        Multiply a list of matrices\n",
        "        :raises MatrixMultiplicationException\n",
        "    \"\"\"\n",
        "    result = matrices[0]\n",
        "    for i in range(1, len(matrices)):\n",
        "        try:\n",
        "            result = result * matrices[i]\n",
        "        except ValueError:\n",
        "            raise MatrixMultiplicationException(result, matrices[i])\n",
        "    return result\n"
      ],
      "execution_count": 3,
      "outputs": []
    },
    {
      "cell_type": "code",
      "metadata": {
        "colab": {
          "base_uri": "https://localhost:8080/"
        },
        "id": "UjmZJFgK9MaX",
        "outputId": "b62b9dd6-dcf9-4210-f4ce-7f0de96ecdfa"
      },
      "source": [
        "  A = np.arange(10).reshape(5, 2)\r\n",
        "  B = np.arange(10).reshape(5, 2)\r\n",
        "  C = multiply_matrices([A, B])\r\n",
        "  A = np.arange(10).reshape(2, 5)\r\n",
        "  B = np.arange(10).reshape(5, 2)\r\n",
        "  try:\r\n",
        "    C = multiply_matrices([A, B])\r\n",
        "  except Exception as e:\r\n",
        "    print(e)"
      ],
      "execution_count": 5,
      "outputs": [
        {
          "output_type": "stream",
          "text": [
            "These arrays cannot be multiplied: [[0 1 2 3 4]\n",
            " [5 6 7 8 9]] \n",
            "                and [[0 1]\n",
            " [2 3]\n",
            " [4 5]\n",
            " [6 7]\n",
            " [8 9]]\n"
          ],
          "name": "stdout"
        }
      ]
    }
  ]
}